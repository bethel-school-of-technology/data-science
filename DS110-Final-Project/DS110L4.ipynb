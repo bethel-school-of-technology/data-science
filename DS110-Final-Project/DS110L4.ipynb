{
 "cells": [
  {
   "cell_type": "markdown",
   "id": "50e6ddbb-52d3-4a02-9b69-100a4181e3b0",
   "metadata": {},
   "source": [
    "# DS110 Final Project : Lesson Four Companion Notebook"
   ]
  },
  {
   "cell_type": "markdown",
   "id": "d1bd4bfc-9b15-4b80-87b4-b8b60eb56371",
   "metadata": {},
   "source": [
    "### Table of Contents <a class=\"anchor\" id=\"DS110L4_toc\"></a>\n",
    "\n",
    "* [Table of Contents](#DS110L4_toc)\n",
    "    * [Page 1 - Introduction](#DS110L4_page_1)\n",
    "    * [Page 2 - Analyzing your Data](#DS110L4_page_2)\n",
    "    * [Page 3 - Week 4 Hands-On](#DS110L4_page_3)   "
   ]
  },
  {
   "cell_type": "markdown",
   "id": "ef5a8c65-ed48-4354-a257-e01b0fd733d4",
   "metadata": {},
   "source": [
    "<hr style=\"height:10px;border-width:0;color:gray;background-color:gray\">\n",
    "\n",
    "# Page 1 - Introduction<a class=\"anchor\" id=\"DS110L4_page_1\"></a>\n",
    "\n",
    "[Back to Top](#DS110L4_toc)\n",
    "\n",
    "<hr style=\"height:10px;border-width:0;color:gray;background-color:gray\">"
   ]
  },
  {
   "cell_type": "code",
   "execution_count": 2,
   "id": "11336934-8603-4171-b122-a7cc4c1bbb36",
   "metadata": {},
   "outputs": [
    {
     "data": {
      "text/html": [
       "\n",
       "        <iframe\n",
       "            width=\"720\"\n",
       "            height=\"480\"\n",
       "            src=\"https://player.vimeo.com/video/390083520\"\n",
       "            frameborder=\"0\"\n",
       "            allowfullscreen\n",
       "        ></iframe>\n",
       "        "
      ],
      "text/plain": [
       "<IPython.lib.display.VimeoVideo at 0x7fbe380809d0>"
      ]
     },
     "execution_count": 2,
     "metadata": {},
     "output_type": "execute_result"
    }
   ],
   "source": [
    "from IPython.display import VimeoVideo\n",
    "# Tutorial Video Name: Week 4 Analyze Data\n",
    "VimeoVideo('390083520', width=720, height=480)"
   ]
  },
  {
   "cell_type": "markdown",
   "id": "5b6ad526-95fa-43c4-bc43-1fe807708ed3",
   "metadata": {},
   "source": [
    "The transcript for the above overview video **[is located here](https://repo.exeterlms.com/documents/V2/DataScience/Video-Transcripts/DSO110L06overview.zip)**.\n",
    "\n",
    "# Introduction \n",
    "\n",
    "This week, you will be focusing on the analyses that will help answer your evaluation questions. By the end of the lesson, you should have:\n",
    "\n",
    "* Analyzed all your data\n",
    "\n",
    "<div class=\"panel panel-success\">\n",
    "    <div class=\"panel-heading\">\n",
    "        <h3 class=\"panel-title\">Additional Info!</h3>\n",
    "    </div>\n",
    "    <div class=\"panel-body\">\n",
    "        <p>You may want to watch this <a href=\"https://vimeo.com/478233164\"> recorded live workshop on the concepts in this lesson. </a> </p>\n",
    "    </div>\n",
    "</div>\n"
   ]
  },
  {
   "cell_type": "markdown",
   "id": "7990ac7a-5a2f-4744-af14-1b7e385ea484",
   "metadata": {},
   "source": [
    "<hr style=\"height:10px;border-width:0;color:gray;background-color:gray\">\n",
    "\n",
    "# Page 2 - Analyzing your Data<a class=\"anchor\" id=\"DS110L4_page_2\"></a>\n",
    "\n",
    "[Back to Top](#DS110L4_toc)\n",
    "\n",
    "<hr style=\"height:10px;border-width:0;color:gray;background-color:gray\">\n"
   ]
  },
  {
   "cell_type": "markdown",
   "id": "612429df-e4ef-4d85-8460-5bc8914079c3",
   "metadata": {},
   "source": [
    "# Analyzing your Data\n",
    "\n",
    "By this point, you should know exactly what you are doing in regards to data analysis.  You have planned the analyses you will do, wrangled your data for them, and are ready to hit the big time! Whatever analysis you choose, whatever programming language you choose to do it in, make sure that you do the following:\n",
    "\n",
    "* **Document your code:**  This will allow you to better understand your work if you need to look back at it, and will show off organization skills to potential employers.\n",
    "* **Display code in the correct order:** Especially in Jupyter Notebook, it is easy to run things in any order and so if you open it up and try running the entire file, it won't run, because your code isn't in order.  No matter whether you are using R or Python, ensuring your code is in the correct order will save you heartache later and again demonstrate your organization and coding prowess to potential employers.  You don't want them to actually try running your code and come up with errors, do you?! That would be mortifying.\n",
    "* **Never work on the original data:** Duuude, do you want to have accidentally written over your entire dataset and need to start over? Absolutely not.  By continually saving additional copies, you can just go to the version beforehand, rather than the beginning, if you accidentally make a mistake. And you're learning - so mistakes are expected.  All that matters is how you recover!\n",
    "\n",
    "<div class=\"panel panel-info\">\n",
    "    <div class=\"panel-heading\">\n",
    "        <h3 class=\"panel-title\">Tip!</h3>\n",
    "    </div>\n",
    "    <div class=\"panel-body\">\n",
    "        <p>DSO105 Intermediate Statistics contains lessons about ANOVA, ANCOVAs, MANOVAs, and advanced Chi-Squares.  DSO106 Machine Learning and Modeling contains lessons on linear and logistic regression and machine learning such as random forests and k-means/k-nearest neighbors.</p>\n",
    "    </div>\n",
    "</div>\n",
    "\n",
    "---\n",
    "\n",
    "## The Iterative Process\n",
    "\n",
    "Do not be discouraged if you run your analyses and don't find anything significant. Data science is always an iterative process.  If you get no significant results, or your accuracy is very low, look to your exploratory analsyses to get a second wind.  They may provide some insight as to what other variables to include or what other analyses to try.  Now that your data is pretty much all wrangled, you have a little freedom to try several different things if the first doesn't work out.\n",
    "\n",
    "And if all else fails - know that real data scientists get non-significant results all the time! It doesn't get talked about a lot, because people don't often report their \"null\" findings.  But it happens, and you won't be penalized in your final project for having non-significant findings.  Present your results anyway and put the best spin you can on it.\n",
    "\n",
    "<div class=\"panel panel-success\">\n",
    "    <div class=\"panel-heading\">\n",
    "        <h3 class=\"panel-title\">Fun Fact!</h3>\n",
    "    </div>\n",
    "    <div class=\"panel-body\">\n",
    "        <p>There are so many negative findings in research that an entire journal has been created for them! Check out <a href=\"https://www.journalnetwork.org/journals/international-journal-of-negative-and-null-results\"> The International Journal of Negative and Null Results! </a> </p>\n",
    "    </div>\n",
    "</div>\n",
    "\n",
    "---"
   ]
  },
  {
   "cell_type": "markdown",
   "id": "832358fd-55fa-420a-8aa2-46fbf2097986",
   "metadata": {},
   "source": [
    "<hr style=\"height:10px;border-width:0;color:gray;background-color:gray\">\n",
    "\n",
    "# Page 3 - Week 4 Hands-On<a class=\"anchor\" id=\"DS110L4_page_3\"></a>\n",
    "\n",
    "[Back to Top](#DS110L4_toc)\n",
    "\n",
    "<hr style=\"height:10px;border-width:0;color:gray;background-color:gray\">\n"
   ]
  },
  {
   "cell_type": "markdown",
   "id": "f564e3e7-3a7f-4936-b3a3-2e0a9ab78512",
   "metadata": {},
   "source": [
    "For this Hands On, you will be reporting on your work for Week 4 of final project. This week, you should have primarily focused on data analysis. \n",
    "\n",
    "<div class=\"panel panel-danger\">\n",
    "    <div class=\"panel-heading\">\n",
    "        <h3 class=\"panel-title\">Caution!</h3>\n",
    "    </div>\n",
    "    <div class=\"panel-body\">\n",
    "        <p>Do not submit your project until you have completed all requirements, as you will not be able to resubmit.</p>\n",
    "    </div>\n",
    "</div>\n",
    "\n",
    "---\n",
    "\n",
    "## Summary Document\n",
    "\n",
    "Please submit a document with the following items:\n",
    "\n",
    "- Scrum Master for next week  \n",
    "- List at least 5 things the team did well and will continue doing  \n",
    "- List at least 3 things the team did poorly and how you will mitigate them next sprint \n",
    "- List shout-outs to any team members for excelling in any way  \n",
    "- What did you learn as a team this week?  \n",
    "- What did you learn as an individual this week?  \n",
    "\n",
    "\n",
    "---\n",
    "\n",
    "## Code Review\n",
    "\n",
    "Please submit all project documents related to your efforts this week, including all code used. If you used Tableau, please take screenshots.Your code will be graded on the following four criteria:\n",
    "\n",
    "* Does your code run smoothly from the top to the bottom of the file?\n",
    "* Do you have comments explaining what you're doing before you do it?\n",
    "* Are you working on the appropriate weekly task (i.e. data analysis)?\n",
    "* Do you have comments explaining your interpretation of the code results (if applicable) after the code?\n",
    "\n",
    "\n",
    "<div class=\"panel panel-danger\">\n",
    "    <div class=\"panel-heading\">\n",
    "        <h3 class=\"panel-title\">Caution!</h3>\n",
    "    </div>\n",
    "    <div class=\"panel-body\">\n",
    "        <p>Be sure to zip and submit your entire directory when finished!</p>\n",
    "    </div>\n",
    "</div>\n"
   ]
  }
 ],
 "metadata": {
  "kernelspec": {
   "display_name": "Python 3",
   "language": "python",
   "name": "python3"
  },
  "language_info": {
   "codemirror_mode": {
    "name": "ipython",
    "version": 3
   },
   "file_extension": ".py",
   "mimetype": "text/x-python",
   "name": "python",
   "nbconvert_exporter": "python",
   "pygments_lexer": "ipython3",
   "version": "3.9.5"
  }
 },
 "nbformat": 4,
 "nbformat_minor": 5
}
