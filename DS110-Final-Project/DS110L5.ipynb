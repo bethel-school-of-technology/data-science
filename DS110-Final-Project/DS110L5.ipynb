{
 "cells": [
  {
   "cell_type": "markdown",
   "id": "50e6ddbb-52d3-4a02-9b69-100a4181e3b0",
   "metadata": {},
   "source": [
    "# DS110 Final Project : Lesson Five Companion Notebook"
   ]
  },
  {
   "cell_type": "markdown",
   "id": "d1bd4bfc-9b15-4b80-87b4-b8b60eb56371",
   "metadata": {},
   "source": [
    "### Table of Contents <a class=\"anchor\" id=\"DS110L5_toc\"></a>\n",
    "\n",
    "* [Table of Contents](#DS110L5_toc)\n",
    "    * [Page 1 - Introduction](#DS110L5_page_1)\n",
    "    * [Page 2 - Presentation Structure](#DS110L5_page_2)\n",
    "    * [Page 3 - Presentation Aesthetics](#DS110L5_page_3)\n",
    "    * [Page 4 - Tone of Your Presentation](#DS110L5_page_4)\n",
    "    * [Page 5 - Week 5 Hands-On](#DS110L5_page_5)    "
   ]
  },
  {
   "cell_type": "markdown",
   "id": "ef5a8c65-ed48-4354-a257-e01b0fd733d4",
   "metadata": {},
   "source": [
    "<hr style=\"height:10px;border-width:0;color:gray;background-color:gray\">\n",
    "\n",
    "# Page 1 - Introduction<a class=\"anchor\" id=\"DS110L5_page_1\"></a>\n",
    "\n",
    "[Back to Top](#DS110L5_toc)\n",
    "\n",
    "<hr style=\"height:10px;border-width:0;color:gray;background-color:gray\">"
   ]
  },
  {
   "cell_type": "code",
   "execution_count": 2,
   "id": "5cdb72c7-6d95-4876-915b-a80256eac41f",
   "metadata": {},
   "outputs": [
    {
     "data": {
      "text/html": [
       "\n",
       "        <iframe\n",
       "            width=\"720\"\n",
       "            height=\"480\"\n",
       "            src=\"https://player.vimeo.com/video/388137218\"\n",
       "            frameborder=\"0\"\n",
       "            allowfullscreen\n",
       "        ></iframe>\n",
       "        "
      ],
      "text/plain": [
       "<IPython.lib.display.VimeoVideo at 0x7f95786c0d60>"
      ]
     },
     "execution_count": 2,
     "metadata": {},
     "output_type": "execute_result"
    }
   ],
   "source": [
    "from IPython.display import VimeoVideo\n",
    "# Tutorial Video Name: Week 5 Data Visualization and Reporting\n",
    "VimeoVideo('388137218', width=720, height=480)"
   ]
  },
  {
   "cell_type": "markdown",
   "id": "5b6ad526-95fa-43c4-bc43-1fe807708ed3",
   "metadata": {},
   "source": [
    "The transcript for the above overview video **[is located here](https://repo.exeterlms.com/documents/V2/DataScience/Video-Transcripts/DSO110L07overview.zip)**.\n",
    "\n",
    "# Introduction\n",
    "\n",
    "This week, you will be visualizing your data and building your presentation.  You've put in all the hard work...now it is time to make it pretty! It's a sad state of affairs, but the prettier you make something, the more people tend to pay attention.\n",
    "\n",
    "<div class=\"panel panel-success\">\n",
    "    <div class=\"panel-heading\">\n",
    "        <h3 class=\"panel-title\">Additional Info!</h3>\n",
    "    </div>\n",
    "    <div class=\"panel-body\">\n",
    "        <p>You may want to watch this <a href=\"https://vimeo.com/478218060\"> recorded live workshop on the concepts in this lesson. </a> </p>\n",
    "    </div>\n",
    "</div>\n"
   ]
  },
  {
   "cell_type": "markdown",
   "id": "7990ac7a-5a2f-4744-af14-1b7e385ea484",
   "metadata": {},
   "source": [
    "<hr style=\"height:10px;border-width:0;color:gray;background-color:gray\">\n",
    "\n",
    "# Page 2 - Presentation Structure<a class=\"anchor\" id=\"DS110L5_page_2\"></a>\n",
    "\n",
    "[Back to Top](#DS110L5_toc)\n",
    "\n",
    "<hr style=\"height:10px;border-width:0;color:gray;background-color:gray\">\n"
   ]
  },
  {
   "cell_type": "markdown",
   "id": "612429df-e4ef-4d85-8460-5bc8914079c3",
   "metadata": {},
   "source": [
    "# Presentation Structure\n",
    "\n",
    "Your completed project should be in a presentation format and will be presented in a group project forum with an audience consisting of current and former students, instructors, mentors, administrators, and potential employers.  \n",
    "\n",
    "Your presentation should take about 30 minutes, and then there will be 15 minutes for questions at the end.  Resist the urge to cram every single thing into your presentation; instead, hit the big \"Ah-ha\" moments.  You are likely to have LOTS of analyses that are inconclusive or uninteresting, so you don't need to include all of them. If employers are strongly interested in you, they'll check out your GitHub account and get all the details.  But including too much detail in an big picture overview presentation can make things boring and doesn't demonstrate you have summarization skills. \n",
    "\n",
    "Your goal is to demonstrate to your audience that analytics can improve decision making. Don't make them jump to conclusions on their own - walk them up to each and every important finding you want to highlight, and provide a summary of all graphs and findings that are one sentence or less and provided in plain English. \n",
    "\n",
    "You should be prepared to give a high level overview of your project, and your presentation should be divided into the following sections:\n",
    "\n",
    "* Title Slide\n",
    "* Your Background\n",
    "* Project Introduction / Background\n",
    "* Methods\n",
    "* Results\n",
    "* Summary \n",
    "* Conclusions\n",
    "* Questions\n",
    "\n",
    "---\n",
    "\n",
    "## Title Slide\n",
    "\n",
    "The title slide is where you will introduce your project.  You should give your project a catchy name and should list the names of the team below.  Team member names should be listed in alphabetical order.\n",
    "\n",
    "---\n",
    "\n",
    "## Your Background\n",
    "\n",
    "Next, you should have a slide for each team member that covers your background.  Talk about your previous education, employment, or subject matter expertise.  Tell folks where you are currently or were last employed. \n",
    "\n",
    "---\n",
    "\n",
    "## Project Introduction / Background\n",
    "\n",
    "You should have a couple slides of background information about the topic you are covering.  For instance, if you are asking and answering questions about the stock market, you should give a little basic information about the stock market.  Try to build this up, so start with the most general information and then get more specific with information that directly relates to your data or the questions you will be answering with the data. \n",
    "\n",
    "---\n",
    "\n",
    "## Methods\n",
    "\n",
    "Next comes your methods section.  This is where you talk about all of the details regarding your data.  You want to give a very high level overview of what you did to:\n",
    "\n",
    "* Gather/find data\n",
    "* Manipulate / wrangle data\n",
    "* Create new variables\n",
    "\n",
    "You also want to paint a picture of what your data is like. Include details such as:\n",
    "\n",
    "* Important variables and their summary statistics\n",
    "* Sample size \n",
    "\n",
    "The methods section should only be a few slides, and **should not** include any code.  You are presenting to a wide, non-data science audience, and thus should not go into a lot of detail.\n",
    "\n",
    "---\n",
    "\n",
    "## Results\n",
    "\n",
    "The results section will be the meat of your presentation. You should divide your results section into parts by evaluation question, so that you can easily signpost things. In the results section, you will go over any of the exploratory findings you have you want discuss, as well as the answers to each evaluation question.  Ensure that you provide LOTS of beautiful visuals to go along with your findings. \n",
    "\n",
    "---\n",
    "\n",
    "## Summary\n",
    "\n",
    "The summary should be JUST ONE SLIDE, and it should contain a summary of the entirety of your results section.  It should be in layman's terms, quick and dirty.\n",
    "\n",
    "---\n",
    "\n",
    "## Conclusions\n",
    "\n",
    "Your conclusion section should also only be one slide long.  In it, you should have some bullet points containing information about:\n",
    "\n",
    "* How do your findings impact the world at large? \n",
    "* What's important about this work? \n",
    "* Big picture information\n",
    "\n",
    "---\n",
    "\n",
    "## Questions\n",
    "\n",
    "Your presentation should conclude with a questions slide.  All it needs to say is \"Questions?\" and it helps signify the end of the presentation and the beginning of the question and answer section of your big day. You should be prepared for questions like these: \n",
    "\n",
    "* If you had more time, what else would you do on this project?\n",
    "* What's next for you?\n",
    "* What was the most difficult part of this project?\n",
    "\n",
    "---\n"
   ]
  },
  {
   "cell_type": "markdown",
   "id": "832358fd-55fa-420a-8aa2-46fbf2097986",
   "metadata": {},
   "source": [
    "<hr style=\"height:10px;border-width:0;color:gray;background-color:gray\">\n",
    "\n",
    "# Page 3 - Presentation Aesthetics<a class=\"anchor\" id=\"DS110L5_page_3\"></a>\n",
    "\n",
    "[Back to Top](#DS110L5_toc)\n",
    "\n",
    "<hr style=\"height:10px;border-width:0;color:gray;background-color:gray\">\n"
   ]
  },
  {
   "cell_type": "markdown",
   "id": "f564e3e7-3a7f-4936-b3a3-2e0a9ab78512",
   "metadata": {},
   "source": [
    "# Presentation Aesthetics\n",
    "\n",
    "<div class=\"panel panel-success\">\n",
    "    <div class=\"panel-heading\">\n",
    "        <h3 class=\"panel-title\">Additional Info!</h3>\n",
    "    </div>\n",
    "    <div class=\"panel-body\">\n",
    "        <p>You may want to watch this <a href=\"https://vimeo.com/478214549\"> recorded live workshop on the concepts in this lesson. </a> </p>\n",
    "    </div>\n",
    "</div>\n",
    "\n",
    "It is very important that your presentation look as good as possible.  First impressions matter a lot, and for some employers, this may be their first introduction to you. You want things to look neat and clean, with easily understood visuals when appropriate.  You want to avoid making your slides look busy - when in doubt, add an additional slide rather than cramming things in - and you should avoid typos at all costs.  If typos/spelling errors are something you know you struggle with, get lots of others to read through it.  Your instructor, mentor, family, and friends are all good proofreaders that can help you out!\n",
    "\n",
    "Stick to a color scheme, like you learned about for infographics.  Pick a few good colors and stay in that spectrum. Ensure that any graphics you use are high quality, sized well, and relatively simple.  When creating your own data visualizations, **do not** make use of the generic graphs that just spit out in Python or R.  They are common, and everyone will recognize them for what they are.  You will want to impress people with your visualizations, so put some time and effort into making them look nice! You may want to consider software such as Tableau to easily manipulate stunning visuals. Make sure your graphs are labeled and that you remove any additional clutter, such as horizontal grid lines.\n",
    "\n",
    "<div class=\"panel panel-info\">\n",
    "    <div class=\"panel-heading\">\n",
    "        <h3 class=\"panel-title\">Tip!</h3>\n",
    "    </div>\n",
    "    <div class=\"panel-body\">\n",
    "        <p>Review DSO104 Data Wrangling and Visualization for help making your presentation stunning!</p>\n",
    "    </div>\n",
    "</div>\n",
    "\n",
    "---\n"
   ]
  },
  {
   "cell_type": "markdown",
   "id": "bb1aade2-59af-4cbc-b5ed-da31e39f266d",
   "metadata": {},
   "source": [
    "<hr style=\"height:10px;border-width:0;color:gray;background-color:gray\">\n",
    "\n",
    "# Page 4 - Tone of Your Presentation<a class=\"anchor\" id=\"DS110L5_page_4\"></a>\n",
    "\n",
    "[Back to Top](#DS110L5_toc)\n",
    "\n",
    "<hr style=\"height:10px;border-width:0;color:gray;background-color:gray\">\n"
   ]
  },
  {
   "cell_type": "markdown",
   "id": "eba2ed6e-98dd-43f7-8761-6ecc9a13af08",
   "metadata": {},
   "source": [
    "# Tone of Your Presentation\n",
    "\n",
    "Your presentation is meant for a lay audience, meaning one that does not have technical expertise in data science.  You are showing off your skills at translating something technical, with lots of jargon, into something a lot more generic.  But it still has to make sense, and someone should be able to take action based on the information you provide them! So make sure you keep things professional but not too heavy on the detail. \n",
    "\n",
    "There should be no code blocks in your presentation, and you should avoid mentioning things like \"null and alternative hypothesis\" or discussing the *p* value.  Stick to the findings on a basic and generic level in your results, and then talk about what they mean and why they are important in your conclusions.  There is an acronymn: WIIFM.  It stands for \"what's in it for me?\" Make sure that all along the way in your presentation, you let the audience know what is in it for them.\n",
    "\n",
    "---"
   ]
  },
  {
   "cell_type": "markdown",
   "id": "ead4ad3c-2fe6-457e-8924-1410e951bebd",
   "metadata": {},
   "source": [
    "<hr style=\"height:10px;border-width:0;color:gray;background-color:gray\">\n",
    "\n",
    "# Page 5 - Week 5 Hands-On<a class=\"anchor\" id=\"DS110L5_page_5\"></a>\n",
    "\n",
    "[Back to Top](#DS110L5_toc)\n",
    "\n",
    "<hr style=\"height:10px;border-width:0;color:gray;background-color:gray\">\n"
   ]
  },
  {
   "cell_type": "markdown",
   "id": "bbbc06a2-e702-47a1-942f-cbcbe31221a7",
   "metadata": {},
   "source": [
    "For this Hands On, you will be reporting on your work for Week 5 of final project. This week, you should have primarily focused on data visualization. \n",
    "\n",
    "<div class=\"panel panel-danger\">\n",
    "    <div class=\"panel-heading\">\n",
    "        <h3 class=\"panel-title\">Caution!</h3>\n",
    "    </div>\n",
    "    <div class=\"panel-body\">\n",
    "        <p>Do not submit your project until you have completed all requirements, as you will not be able to resubmit.</p>\n",
    "    </div>\n",
    "</div>\n",
    "\n",
    "---\n",
    "\n",
    "## Summary Document\n",
    "\n",
    "Please submit a document with the following items:\n",
    "\n",
    "- Scrum Master for next week  \n",
    "- List at least 5 things the team did well and will continue doing  \n",
    "- List at least 3 things the team did poorly and how you will mitigate them next sprint \n",
    "- List shout-outs to any team members for excelling in any way  \n",
    "- What did you learn as a team this week?  \n",
    "- What did you learn as an individual this week?  \n",
    "\n",
    "\n",
    "---\n",
    "\n",
    "## Code Review\n",
    "\n",
    "Please submit all project documents related to your efforts this week, including all code used. If you used Tableau, please take screenshots.Your code will be graded on the following four criteria:\n",
    "\n",
    "* Does your code run smoothly from the top to the bottom of the file?\n",
    "* Do you have comments explaining what you're doing before you do it?\n",
    "* Are you working on the appropriate weekly task (i.e. data visualization)?\n",
    "* Do you have comments explaining your interpretation of the code results (if applicable) after the code?\n",
    "\n",
    "\n",
    "<div class=\"panel panel-danger\">\n",
    "    <div class=\"panel-heading\">\n",
    "        <h3 class=\"panel-title\">Caution!</h3>\n",
    "    </div>\n",
    "    <div class=\"panel-body\">\n",
    "        <p>Be sure to zip and submit your entire directory when finished!</p>\n",
    "    </div>\n",
    "</div>\n"
   ]
  }
 ],
 "metadata": {
  "kernelspec": {
   "display_name": "Python 3",
   "language": "python",
   "name": "python3"
  },
  "language_info": {
   "codemirror_mode": {
    "name": "ipython",
    "version": 3
   },
   "file_extension": ".py",
   "mimetype": "text/x-python",
   "name": "python",
   "nbconvert_exporter": "python",
   "pygments_lexer": "ipython3",
   "version": "3.9.5"
  }
 },
 "nbformat": 4,
 "nbformat_minor": 5
}
