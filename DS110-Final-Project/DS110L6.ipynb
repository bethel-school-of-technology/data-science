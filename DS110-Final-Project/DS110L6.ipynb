{
 "cells": [
  {
   "cell_type": "markdown",
   "id": "50e6ddbb-52d3-4a02-9b69-100a4181e3b0",
   "metadata": {},
   "source": [
    "# DS110 Final Project : Lesson Six Companion Notebook"
   ]
  },
  {
   "cell_type": "markdown",
   "id": "d1bd4bfc-9b15-4b80-87b4-b8b60eb56371",
   "metadata": {},
   "source": [
    "### Table of Contents <a class=\"anchor\" id=\"DS110L6_toc\"></a>\n",
    "\n",
    "* [Table of Contents](#DS110L6_toc)\n",
    "    * [Page 1 - Introduction](#DS110L6_page_1)\n",
    "    * [Page 2 - Public Speaking Tips](#DS110L6_page_2)\n",
    "    * [Page 3 - Practice your Presentation](#DS110L6_page_3)\n",
    "    * [Page 4 - Presentation Recording](#DS110L6_page_4)\n",
    "    * [Page 5 - Week 6 Hands-On](#DS110L6_page_5)    "
   ]
  },
  {
   "cell_type": "markdown",
   "id": "ef5a8c65-ed48-4354-a257-e01b0fd733d4",
   "metadata": {},
   "source": [
    "<hr style=\"height:10px;border-width:0;color:gray;background-color:gray\">\n",
    "\n",
    "# Page 1 - Introduction<a class=\"anchor\" id=\"DS110L6_page_1\"></a>\n",
    "\n",
    "[Back to Top](#DS110L6_toc)\n",
    "\n",
    "<hr style=\"height:10px;border-width:0;color:gray;background-color:gray\">"
   ]
  },
  {
   "cell_type": "code",
   "execution_count": 3,
   "id": "130cd9e7-2df3-44ff-8e89-1016aee7acc9",
   "metadata": {},
   "outputs": [
    {
     "data": {
      "text/html": [
       "\n",
       "        <iframe\n",
       "            width=\"720\"\n",
       "            height=\"480\"\n",
       "            src=\"https://player.vimeo.com/video/388341240\"\n",
       "            frameborder=\"0\"\n",
       "            allowfullscreen\n",
       "        ></iframe>\n",
       "        "
      ],
      "text/plain": [
       "<IPython.lib.display.VimeoVideo at 0x7fa820290cd0>"
      ]
     },
     "execution_count": 3,
     "metadata": {},
     "output_type": "execute_result"
    }
   ],
   "source": [
    "from IPython.display import VimeoVideo\n",
    "# Tutorial Video Name: Week 6 Presentation Preparation\n",
    "VimeoVideo('388341240', width=720, height=480)"
   ]
  },
  {
   "cell_type": "markdown",
   "id": "5b6ad526-95fa-43c4-bc43-1fe807708ed3",
   "metadata": {},
   "source": [
    "\n",
    "The transcript for the above overview video **[is located here](https://repo.exeterlms.com/documents/V2/DataScience/Video-Transcripts/DSO110L08overview.zip)**.\n",
    "\n",
    "# Introduction\n",
    "\n",
    "This week, you should be able to finish up your presentation! You will also take care of any last minute details, and share your work on GitHub and Kaggle. \n",
    "\n",
    "<div class=\"panel panel-success\">\n",
    "    <div class=\"panel-heading\">\n",
    "        <h3 class=\"panel-title\">Additional Info!</h3>\n",
    "    </div>\n",
    "    <div class=\"panel-body\">\n",
    "        <p>You may want to watch this <a href=\"https://vimeo.com/478228111\"> recorded live workshop on the concepts in this lesson. </a> </p>\n",
    "    </div>\n",
    "</div>\n",
    "\n"
   ]
  },
  {
   "cell_type": "markdown",
   "id": "7990ac7a-5a2f-4744-af14-1b7e385ea484",
   "metadata": {},
   "source": [
    "<hr style=\"height:10px;border-width:0;color:gray;background-color:gray\">\n",
    "\n",
    "# Page 2 - Public Speaking Tips<a class=\"anchor\" id=\"DS110L6_page_2\"></a>\n",
    "\n",
    "[Back to Top](#DS110L6_toc)\n",
    "\n",
    "<hr style=\"height:10px;border-width:0;color:gray;background-color:gray\">\n"
   ]
  },
  {
   "cell_type": "markdown",
   "id": "612429df-e4ef-4d85-8460-5bc8914079c3",
   "metadata": {},
   "source": [
    "# Public Speaking Tips\n",
    "\n",
    "First impressions are everything, and you will make a first impression with your appearance, posture, and public speaking skills as much as you will with your presentation.  So it's important to practice your presentation and otherwise be prepared!\n",
    "\n",
    "---\n",
    "\n",
    "## Practice, Practice, Practice\n",
    "\n",
    "It is important that you devote time to practicing your presentation.  You should aim to run through it with an audience at least twice, to ensure that you have a good feel for it and won't stumble.  You are expected to schedule a time to practice your presentation with your instructor at least once. When you practice, replicate the environment you will be in to the best extent possible, so that you get comfortable with your surroundings.  So if you plan to be at your kitchen table when you present, that's a good place to be when you practice.\n",
    "\n",
    "---\n",
    "\n",
    "## Avoid Repetitive Words / Noises\n",
    "\n",
    "One of the things to keep an ear out for when you practice is if you are repeating any words or phrases over and over again, or making repetitive noises like \"um\" or \"uhhh.\" If you hear yourself saying things repetitively, or your practice audience hears you saying things repetitively, you can practice some more, being mindful of what you are saying and trying to train it out of you.\n",
    "\n",
    "---\n",
    "\n",
    "## Avoid Excessive Hand Gestures\n",
    "\n",
    "Especially when you are presenting online, excessive hand gestures or other movements can be distracting.  This is doubly true for online issues, because if someone's internet slows, you are just looking like a weird blur as your hands flap around. As you practice, do your best to quell hand gestures if you have them.  Something like holding them in your lap or clasping them together can also help serve as a reminder.\n",
    "\n",
    "---\n",
    "\n",
    "## Appearance Matters\n",
    "\n",
    "This is every bit as important as an interview, and maybe more so, because multiple potential employers have a chance to examine you at your presentation if you choose to record it, but only one employer will see you per interview.  So make sure you look your best, and so does the area showing on your webcam! Gentleman, you should be wearing something with a collar at the very least.  Ladies, although a collar isn't required (how sexist!) it doesn't hurt, and make sure you're wearing something not too low cut.  Both men and women, you should be wearing something clean and unrumpled! Although your audience won't see you from the waist down, it is a good idea to be presentable on your bottom half as well.  Not only will you feel good all dressed up, and be more confident, but you will avoid any accidental issues if you stand up for some reason.  Nothing more embarrassing than showing a professional audience your cartoon pajama pants! \n",
    "\n",
    "The appearance of the space around you also matters.  If you don't think an unmade bed behind you is going to leave a negative impression, think again! Things should be clean and tidy, and you should strive to be in an area that is relatively noiseless.  \n",
    "\n",
    "---\n",
    "\n",
    "## Avoid Interruptions\n",
    "\n",
    "Make sure friends and family members know not to interrupt you at your physical location while you give your presentation.  Turn off your phone and any other devices that could beep at you while you present as well.  You'll also want to make sure that you turn notifications off on your computer if you are the person sharing your screen.  Another sure way to embarrass yourself is to have email notifications pop up! \n",
    "\n",
    "---\n",
    "\n",
    "## Speak Slowly and Clearly\n",
    "\n",
    "When you practice, make sure that you are enunciating your words, speaking slowly and clearly.  There is nothing more annoying than a speaker talking so quickly you can barely understand them.  If you are someone who gets nervous speaking in front of an audience, you may need to practice multiple times so that you can eradicate some of the nerves and thus enable yourself to speak slower.\n",
    "\n",
    "---\n",
    "\n",
    "## Be Prepared\n",
    "\n",
    "There will always be technical difficulties that arise when you're working online, so be prepared for them! Your zoom session for your final project presentation will be opened approximately ten minutes early so that you can iron out any technical difficulties that arise.  You'll be able to test your audio, video, and screen-sharing capacity.\n",
    "\n",
    "---\n"
   ]
  },
  {
   "cell_type": "markdown",
   "id": "832358fd-55fa-420a-8aa2-46fbf2097986",
   "metadata": {},
   "source": [
    "<hr style=\"height:10px;border-width:0;color:gray;background-color:gray\">\n",
    "\n",
    "# Page 3 - Practice your Presentation<a class=\"anchor\" id=\"DS110L6_page_3\"></a>\n",
    "\n",
    "[Back to Top](#DS110L6_toc)\n",
    "\n",
    "<hr style=\"height:10px;border-width:0;color:gray;background-color:gray\">\n"
   ]
  },
  {
   "cell_type": "markdown",
   "id": "f564e3e7-3a7f-4936-b3a3-2e0a9ab78512",
   "metadata": {},
   "source": [
    "# Practice your Presentation\n",
    "\n",
    "It is incredibly important to practice your presentation, so you'll put your best foot forward to employers! Hopefully, you can find some willing audience members whom you can practice in front of! Whenever you practice, please have your listeners (friends, family members, co-workers, fellow students, or school staff) fill out **[this Practice Presentation Checklist](https://repo.exeterlms.com/documents/V2/DataScience/Final-Project/FinalProjectPresentationChecklist.zip)** to help you improve your presentation in the key areas! Although no one is perfect, you are aiming for as close as you can get! \n",
    "\n",
    "Please attach at least one practice presentation form here. For your presentation to be recorded, you must include **at least two successful practice presentation forms.**\n",
    "\n",
    "<div class=\"panel panel-danger\">\n",
    "    <div class=\"panel-heading\">\n",
    "        <h3 class=\"panel-title\">Caution!</h3>\n",
    "    </div>\n",
    "    <div class=\"panel-body\">\n",
    "        <p>Be sure to zip up all of your documents in order to submit them</p>\n",
    "    </div>\n",
    "</div>"
   ]
  },
  {
   "cell_type": "markdown",
   "id": "bb1aade2-59af-4cbc-b5ed-da31e39f266d",
   "metadata": {},
   "source": [
    "<hr style=\"height:10px;border-width:0;color:gray;background-color:gray\">\n",
    "\n",
    "# Page 4 - Presentation Recording<a class=\"anchor\" id=\"DS110L6_page_4\"></a>\n",
    "\n",
    "[Back to Top](#DS110L6_toc)\n",
    "\n",
    "<hr style=\"height:10px;border-width:0;color:gray;background-color:gray\">\n"
   ]
  },
  {
   "cell_type": "markdown",
   "id": "eba2ed6e-98dd-43f7-8761-6ecc9a13af08",
   "metadata": {},
   "source": [
    "# Presentation Recording\n",
    "\n",
    "If you are interested in having your presentation permanently recorded to share with recruiters, potential employers, social media, and Grandma, please speak with your instructor.  In order to be considered for recording, there are two requirements: \n",
    "\n",
    "* You must submit at least two practice presentation forms\n",
    "* You must complete **[this form](https://repo.exeterlms.com/documents/V2/DataScience/Final-Project/WozUPhoto&VideoReleaseForm.zip)** for video release\n",
    "\n",
    "<div class=\"panel panel-success\">\n",
    "    <div class=\"panel-heading\">\n",
    "        <h3 class=\"panel-title\">Additional Info!</h3>\n",
    "    </div>\n",
    "    <div class=\"panel-body\">\n",
    "        <p>You may want to watch this <a href=\"https://vimeo.com/480989077\"> recorded live workshop on steps to take after graduation! It covers portfolio building, marketing yourself, and more. </a> </p>\n",
    "    </div>\n",
    "</div>\n",
    "\n",
    "\n",
    "---"
   ]
  },
  {
   "cell_type": "markdown",
   "id": "ead4ad3c-2fe6-457e-8924-1410e951bebd",
   "metadata": {},
   "source": [
    "<hr style=\"height:10px;border-width:0;color:gray;background-color:gray\">\n",
    "\n",
    "# Page 5 - Week 6 Hands-On<a class=\"anchor\" id=\"DS110L6_page_5\"></a>\n",
    "\n",
    "[Back to Top](#DS110L6_toc)\n",
    "\n",
    "<hr style=\"height:10px;border-width:0;color:gray;background-color:gray\">\n"
   ]
  },
  {
   "cell_type": "markdown",
   "id": "bbbc06a2-e702-47a1-942f-cbcbe31221a7",
   "metadata": {},
   "source": [
    "For this Hands On, you will be reporting on your work for Week 6 of final project. This week, you should have primarily focused on data reporting and visualization. \n",
    "\n",
    "<div class=\"panel panel-danger\">\n",
    "    <div class=\"panel-heading\">\n",
    "        <h3 class=\"panel-title\">Caution!</h3>\n",
    "    </div>\n",
    "    <div class=\"panel-body\">\n",
    "        <p>Do not submit your project until you have completed all requirements, as you will not be able to resubmit.</p>\n",
    "    </div>\n",
    "</div>\n",
    "\n",
    "---\n",
    "\n",
    "## Summary Document\n",
    "\n",
    "Please submit a document with the following items:\n",
    "\n",
    "- Scrum Master for next week  \n",
    "- List at least 5 things the team did well and will continue doing  \n",
    "- List at least 3 things the team did poorly and how you will mitigate them next sprint \n",
    "- List shout-outs to any team members for excelling in any way  \n",
    "- What did you learn as a team this week?  \n",
    "- What did you learn as an individual this week?  \n",
    "\n",
    "\n",
    "---\n",
    "\n",
    "## Code Review\n",
    "\n",
    "Please submit all project documents related to your efforts this week, including all code used. If you used Tableau, please take screenshots.Your code will be graded on the following four criteria:\n",
    "\n",
    "* Does your code run smoothly from the top to the bottom of the file?\n",
    "* Do you have comments explaining what you're doing before you do it?\n",
    "* Are you working on the appropriate weekly task (i.e. data reporting and presentation)?\n",
    "* Do you have comments explaining your interpretation of the code results (if applicable) after the code?\n",
    "\n",
    "\n",
    "<div class=\"panel panel-danger\">\n",
    "    <div class=\"panel-heading\">\n",
    "        <h3 class=\"panel-title\">Caution!</h3>\n",
    "    </div>\n",
    "    <div class=\"panel-body\">\n",
    "        <p>Be sure to zip and submit your entire directory when finished!</p>\n",
    "    </div>\n",
    "</div>\n"
   ]
  }
 ],
 "metadata": {
  "kernelspec": {
   "display_name": "Python 3",
   "language": "python",
   "name": "python3"
  },
  "language_info": {
   "codemirror_mode": {
    "name": "ipython",
    "version": 3
   },
   "file_extension": ".py",
   "mimetype": "text/x-python",
   "name": "python",
   "nbconvert_exporter": "python",
   "pygments_lexer": "ipython3",
   "version": "3.9.5"
  }
 },
 "nbformat": 4,
 "nbformat_minor": 5
}
