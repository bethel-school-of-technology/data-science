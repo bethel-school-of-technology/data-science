{
 "cells": [
  {
   "cell_type": "markdown",
   "id": "50e6ddbb-52d3-4a02-9b69-100a4181e3b0",
   "metadata": {},
   "source": [
    "# DS110 Final Project : Lesson Two Companion Notebook"
   ]
  },
  {
   "cell_type": "markdown",
   "id": "d1bd4bfc-9b15-4b80-87b4-b8b60eb56371",
   "metadata": {},
   "source": [
    "### Table of Contents <a class=\"anchor\" id=\"DS110L2_toc\"></a>\n",
    "\n",
    "* [Table of Contents](#DS110L2_toc)\n",
    "    * [Page 1 - Introduction](#DS110L2_page_1)\n",
    "    * [Page 2 - Determine Analysis Specifications](#DS110L2_page_2)\n",
    "    * [Page 3 - Data Wrangling Tasks](#DS110L2_page_3)\n",
    "    * [Page 4 - Week 2 Hands-On](#DS110L2_page_4)    "
   ]
  },
  {
   "cell_type": "markdown",
   "id": "ef5a8c65-ed48-4354-a257-e01b0fd733d4",
   "metadata": {},
   "source": [
    "<hr style=\"height:10px;border-width:0;color:gray;background-color:gray\">\n",
    "\n",
    "# Page 1 - Overview of this Module<a class=\"anchor\" id=\"DS110L2_page_1\"></a>\n",
    "\n",
    "[Back to Top](#DS110L2_toc)\n",
    "\n",
    "<hr style=\"height:10px;border-width:0;color:gray;background-color:gray\">"
   ]
  },
  {
   "cell_type": "markdown",
   "id": "5b6ad526-95fa-43c4-bc43-1fe807708ed3",
   "metadata": {},
   "source": [
    "The transcript for the above overview video **[is located here](https://repo.exeterlms.com/documents/V2/DataScience/Video-Transcripts/DSO110L04overview.zip)**.\n",
    "\n",
    "# Introduction\n",
    "\n",
    "Week 2 will be focused on wrangling your data and preparing it for analysis. Data wrangling is almost always the chunk of the data science pipeline that takes the longest, and if you were to wrangle your entire dataset, it could take months.  \n",
    "\n",
    "By the end of this week, you should be able to complete the following tasks:\n",
    "\n",
    "* Wrangle your data in preparation for data analysis\n"
   ]
  },
  {
   "cell_type": "markdown",
   "id": "7990ac7a-5a2f-4744-af14-1b7e385ea484",
   "metadata": {},
   "source": [
    "<hr style=\"height:10px;border-width:0;color:gray;background-color:gray\">\n",
    "\n",
    "# Page 2 - Determine Analysis Specifications<a class=\"anchor\" id=\"DS110L2_page_2\"></a>\n",
    "\n",
    "[Back to Top](#DS110L2_toc)\n",
    "\n",
    "<hr style=\"height:10px;border-width:0;color:gray;background-color:gray\">\n"
   ]
  },
  {
   "cell_type": "markdown",
   "id": "612429df-e4ef-4d85-8460-5bc8914079c3",
   "metadata": {},
   "source": [
    "# Determine Analysis Specifications\n",
    "\n",
    "Once you have settled on the analysis you want to use, you will need to look up the data requirements for that particular analysis.  This is a good time to look back at the particular sections in your past lessons that covers those topics.  Think through some of these questions:\n",
    "\n",
    "* Does your data need to be a particular type? Date? Factor? Integer?\n",
    "* Do you need to categorize your data in some way?\n",
    "* Do you need to address missing data via imputation or removal?\n",
    "\n",
    "\n",
    "<div class=\"panel panel-info\">\n",
    "    <div class=\"panel-heading\">\n",
    "        <h3 class=\"panel-title\">Tip!</h3>\n",
    "    </div>\n",
    "    <div class=\"panel-body\">\n",
    "        <p>If you think you may need to recode a column, reach out to your instructor for tips and tricks on how to do this quickly.\n",
    "        </p>\n",
    "    </div>\n",
    "</div>\n",
    "\n",
    "---"
   ]
  },
  {
   "cell_type": "markdown",
   "id": "832358fd-55fa-420a-8aa2-46fbf2097986",
   "metadata": {},
   "source": [
    "<hr style=\"height:10px;border-width:0;color:gray;background-color:gray\">\n",
    "\n",
    "# Page 3 - Data Wrangling Tasks<a class=\"anchor\" id=\"DS110L2_page_3\"></a>\n",
    "\n",
    "[Back to Top](#DS110L2_toc)\n",
    "\n",
    "<hr style=\"height:10px;border-width:0;color:gray;background-color:gray\">\n"
   ]
  },
  {
   "cell_type": "markdown",
   "id": "f564e3e7-3a7f-4936-b3a3-2e0a9ab78512",
   "metadata": {},
   "source": [
    "# Data Wrangling Tasks\n",
    "\n",
    "In addition to thinking through the tasks that must be done for your analyses, you may also want to consider some of the other factors below.  Taking care of them can make your life just a little easier:\n",
    "\n",
    "* Is your data currently in a usable format?\n",
    "* Do your column names have spaces?\n",
    "* Do you need to combine datasets in any way? If so, what column has the same data in it that you can use as a bridge?\n",
    "* Are any of your variables incredibly highly correlated (.9 or higher)?\n",
    "\n",
    "---\n"
   ]
  },
  {
   "cell_type": "markdown",
   "id": "bb1aade2-59af-4cbc-b5ed-da31e39f266d",
   "metadata": {},
   "source": [
    "<hr style=\"height:10px;border-width:0;color:gray;background-color:gray\">\n",
    "\n",
    "# Page 4 - Week 2 Hands-On<a class=\"anchor\" id=\"DS110L2_page_4\"></a>\n",
    "\n",
    "[Back to Top](#DS110L2_toc)\n",
    "\n",
    "<hr style=\"height:10px;border-width:0;color:gray;background-color:gray\">\n"
   ]
  },
  {
   "cell_type": "markdown",
   "id": "eba2ed6e-98dd-43f7-8761-6ecc9a13af08",
   "metadata": {},
   "source": [
    "For this Hands On, you will be reporting on your work for Week 2 of final project. This week, you should have primarily focused on data wrangling. \n",
    "\n",
    "<div class=\"panel panel-danger\">\n",
    "    <div class=\"panel-heading\">\n",
    "        <h3 class=\"panel-title\">Caution!</h3>\n",
    "    </div>\n",
    "    <div class=\"panel-body\">\n",
    "        <p>Do not submit your project until you have completed all requirements, as you will not be able to resubmit.</p>\n",
    "    </div>\n",
    "</div>\n",
    "\n",
    "---\n",
    "\n",
    "## Summary Document\n",
    "\n",
    "Please submit a document with the following items:\n",
    "\n",
    "- What went well this week?\n",
    "- What was a challenge you had?\n",
    "- How did you handle it?\n",
    "- What blockers are you still experiencing in your project?\n",
    "\n",
    "\n",
    "---\n",
    "\n",
    "## Code Review\n",
    "\n",
    "Please submit all project documents related to your efforts this week, including all code used. Your code will be graded on the following four criteria:\n",
    "\n",
    "* Do you have comments explaining what you're doing before you do it?\n",
    "* Are you working on the appropriate weekly task (i.e. data wrangling)?\n",
    "* Do you have comments explaining your interpretation of the code results (if applicable) after the code?\n",
    "\n",
    "\n",
    "<div class=\"panel panel-danger\">\n",
    "    <div class=\"panel-heading\">\n",
    "        <h3 class=\"panel-title\">Caution!</h3>\n",
    "    </div>\n",
    "    <div class=\"panel-body\">\n",
    "        <p>Be sure to zip and submit your entire directory when finished!</p>\n",
    "    </div>\n",
    "</div>"
   ]
  },
  {
   "cell_type": "code",
   "execution_count": null,
   "id": "bacbdac6",
   "metadata": {},
   "outputs": [],
   "source": []
  }
 ],
 "metadata": {
  "kernelspec": {
   "display_name": "Python 3 (ipykernel)",
   "language": "python",
   "name": "python3"
  },
  "language_info": {
   "codemirror_mode": {
    "name": "ipython",
    "version": 3
   },
   "file_extension": ".py",
   "mimetype": "text/x-python",
   "name": "python",
   "nbconvert_exporter": "python",
   "pygments_lexer": "ipython3",
   "version": "3.9.7"
  }
 },
 "nbformat": 4,
 "nbformat_minor": 5
}
