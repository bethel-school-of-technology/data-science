{
 "cells": [
  {
   "cell_type": "markdown",
   "id": "4f009da2-526b-45fc-b8d6-e8d9e6549b0e",
   "metadata": {},
   "source": [
    "# List of Student Project Repos"
   ]
  },
  {
   "cell_type": "markdown",
   "id": "e675b1d9-5837-4b7b-9cab-9829d5c26e63",
   "metadata": {},
   "source": [
    "https://vimeo.com/showcase/8740303\n",
    "\n",
    "- Amazon Marketing Strategies [Github](https://github.com/seymaharslan/Final-Project) [Vimeo](https://vimeo.com/570088696)\n",
    "- Pulsar Prediction [Github]() [Vimeo](https://vimeo.com/570490065)\n",
    "- What can be done with Data? [Github]() [Vimeo](https://vimeo.com/571867490)\n",
    "- Electric Vehicle Analysis [Github]() [Vimeo](https://vimeo.com/571882384)\n",
    "- US Energy Industry [Github]()[Vimeo](https://vimeo.com/573695871)\n",
    "- Crime Analysis [Github]()[Vimeo](https://vimeo.com/586959396)\n",
    "- Drone Failure Prediction [Github]()[Vimeo](https://vimeo.com/602099549)\n",
    "-  [Github]()[Vimeo]()\n",
    "-  [Github]()[Vimeo]()\n",
    "\n"
   ]
  },
  {
   "cell_type": "code",
   "execution_count": null,
   "id": "dad16166-d3b9-4e42-873a-79c4a5befd72",
   "metadata": {},
   "outputs": [],
   "source": []
  }
 ],
 "metadata": {
  "kernelspec": {
   "display_name": "Python 3 (ipykernel)",
   "language": "python",
   "name": "python3"
  },
  "language_info": {
   "codemirror_mode": {
    "name": "ipython",
    "version": 3
   },
   "file_extension": ".py",
   "mimetype": "text/x-python",
   "name": "python",
   "nbconvert_exporter": "python",
   "pygments_lexer": "ipython3",
   "version": "3.9.7"
  }
 },
 "nbformat": 4,
 "nbformat_minor": 5
}
