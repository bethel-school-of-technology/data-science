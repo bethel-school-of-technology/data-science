{
 "cells": [
  {
   "cell_type": "markdown",
   "id": "50e6ddbb-52d3-4a02-9b69-100a4181e3b0",
   "metadata": {},
   "source": [
    "# DS110 Final Project : Lesson Three Companion Notebook"
   ]
  },
  {
   "cell_type": "markdown",
   "id": "d1bd4bfc-9b15-4b80-87b4-b8b60eb56371",
   "metadata": {},
   "source": [
    "DS110### Table of Contents <a class=\"anchor\" id=\"DS110L3_toc\"></a>\n",
    "\n",
    "* [Table of Contents](#DS110L3_toc)\n",
    "    * [Page 1 - Introduction](#DS110L3_page_1)\n",
    "    * [Page 2 - Exploratory Analyses](#DS110L3_page_2)\n",
    "    * [Page 3 - Week 3 Hands-On](#DS110L3_page_3)    "
   ]
  },
  {
   "cell_type": "markdown",
   "id": "ef5a8c65-ed48-4354-a257-e01b0fd733d4",
   "metadata": {},
   "source": [
    "<hr style=\"height:10px;border-width:0;color:gray;background-color:gray\">\n",
    "\n",
    "# Page 1 - Introduction<a class=\"anchor\" id=\"DS110L3_page_1\"></a>\n",
    "\n",
    "[Back to Top](#DS110L3_toc)\n",
    "\n",
    "<hr style=\"height:10px;border-width:0;color:gray;background-color:gray\">"
   ]
  },
  {
   "cell_type": "markdown",
   "id": "5b6ad526-95fa-43c4-bc43-1fe807708ed3",
   "metadata": {},
   "source": [
    "# Introduction \n",
    "\n",
    "With most, if not all, of your data wrangling tasks completed, you should be ready to sink your teeth into your data! You'll be starting with exploratory analyses.\n"
   ]
  },
  {
   "cell_type": "markdown",
   "id": "7990ac7a-5a2f-4744-af14-1b7e385ea484",
   "metadata": {},
   "source": [
    "<hr style=\"height:10px;border-width:0;color:gray;background-color:gray\">\n",
    "\n",
    "# Page 2 - Exploratory Analyses<a class=\"anchor\" id=\"DS110L3_page_2\"></a>\n",
    "\n",
    "[Back to Top](#DS110L3_toc)\n",
    "\n",
    "<hr style=\"height:10px;border-width:0;color:gray;background-color:gray\">\n"
   ]
  },
  {
   "cell_type": "markdown",
   "id": "612429df-e4ef-4d85-8460-5bc8914079c3",
   "metadata": {},
   "source": [
    "# Exploratory Analyses\n",
    "\n",
    "Although exploratory analyses will not answer your evaluation questions, they will help you understand your data better, and may help guide you when things seem to go awry with your evaluation questions (which happens a lot!) \n",
    "\n",
    "Allow your curiosity free reign as you conduct exploratory analyses.  Ever think \"I wonder...\" with your data? If so, now's the time to follow up! Consider the following exploratory analyses:\n",
    "\n",
    "* Which of your variables are highly related to each other? Consider looking at a correlation matrix.\n",
    "* Get a feel for your data with descriptive statistics.  Consider examining the mean of the data and examine histograms if the variable is continuous and looking at frequencies and box plots if the variable is categorical.\n",
    "* When considering the interplay of 2 numeric variables try a scatterplot. A categorical and numeric, try a boxplot.  2 ca\n",
    "* Hop into Tableau and just play around with a couple quick graphs.  Anything interesting pop out to you?\n",
    "\n",
    "---\n"
   ]
  },
  {
   "cell_type": "markdown",
   "id": "832358fd-55fa-420a-8aa2-46fbf2097986",
   "metadata": {},
   "source": [
    "<hr style=\"height:10px;border-width:0;color:gray;background-color:gray\">\n",
    "\n",
    "# Page 3 - Week 3 Hands-On<a class=\"anchor\" id=\"DS110L3_page_3\"></a>\n",
    "\n",
    "[Back to Top](#DS110L3_toc)\n",
    "\n",
    "<hr style=\"height:10px;border-width:0;color:gray;background-color:gray\">\n"
   ]
  },
  {
   "cell_type": "markdown",
   "id": "f564e3e7-3a7f-4936-b3a3-2e0a9ab78512",
   "metadata": {},
   "source": [
    "For this Hands On, you will be reporting on your work for Week 3 of final project. This week, you should have primarily focused on data exploration. \n",
    "\n",
    "<div class=\"panel panel-danger\">\n",
    "    <div class=\"panel-heading\">\n",
    "        <h3 class=\"panel-title\">Caution!</h3>\n",
    "    </div>\n",
    "    <div class=\"panel-body\">\n",
    "        <p>Do not submit your project until you have completed all requirements, as you will not be able to resubmit.</p>\n",
    "    </div>\n",
    "</div>\n",
    "\n",
    "---\n",
    "\n",
    "## Summary Document\n",
    "\n",
    "Please submit a document with the following items:\n",
    "\n",
    "- Scrum Master for next week  \n",
    "- List at least 5 things the team did well and will continue doing  \n",
    "- List at least 3 things the team did poorly and how you will mitigate them next sprint \n",
    "- List shout-outs to any team members for excelling in any way  \n",
    "- What did you learn as a team this week?  \n",
    "- What did you learn as an individual this week?  \n",
    "\n",
    "\n",
    "---\n",
    "\n",
    "## Code Review\n",
    "\n",
    "Please submit all project documents related to your efforts this week, including all code used. If you used Tableau, please take screenshots. Your code will be graded on the following four criteria:\n",
    "\n",
    "* Does your code run smoothly from the top to the bottom of the file?\n",
    "* Do you have comments explaining what you're doing before you do it?\n",
    "* Are you working on the appropriate weekly task (i.e. data exploration)?\n",
    "* Do you have comments explaining your interpretation of the code results (if applicable) after the code?\n",
    "\n",
    "\n",
    "<div class=\"panel panel-danger\">\n",
    "    <div class=\"panel-heading\">\n",
    "        <h3 class=\"panel-title\">Caution!</h3>\n",
    "    </div>\n",
    "    <div class=\"panel-body\">\n",
    "        <p>Be sure to zip and submit your entire directory when finished!</p>\n",
    "    </div>\n",
    "</div>\n",
    "\n"
   ]
  }
 ],
 "metadata": {
  "kernelspec": {
   "display_name": "Python 3 (ipykernel)",
   "language": "python",
   "name": "python3"
  },
  "language_info": {
   "codemirror_mode": {
    "name": "ipython",
    "version": 3
   },
   "file_extension": ".py",
   "mimetype": "text/x-python",
   "name": "python",
   "nbconvert_exporter": "python",
   "pygments_lexer": "ipython3",
   "version": "3.9.7"
  }
 },
 "nbformat": 4,
 "nbformat_minor": 5
}
